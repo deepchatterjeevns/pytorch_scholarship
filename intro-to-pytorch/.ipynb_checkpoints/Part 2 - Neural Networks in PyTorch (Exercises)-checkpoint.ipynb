{
 "cells": [
  {
   "cell_type": "markdown",
   "metadata": {},
   "source": [
    "# Neural networks with PyTorch\n",
    "\n",
    "- Using the nn module\n",
    "\n",
    "Deep learning networks tend to be massive with dozens or hundreds of layers, that's where the term \"deep\" comes from. You can build one of these deep networks using only weight matrices as we did in the previous notebook, but in general it's very cumbersome and difficult to implement. PyTorch has a nice module `nn` that provides a nice way to efficiently build large neural networks."
   ]
  },
  {
   "cell_type": "code",
   "execution_count": 2,
   "metadata": {},
   "outputs": [],
   "source": [
    "# Import necessary packages\n",
    "\n",
    "%matplotlib inline\n",
    "%config InlineBackend.figure_format = 'retina'\n",
    "\n",
    "import numpy as np\n",
    "import torch\n",
    "\n",
    "import helper\n",
    "\n",
    "import matplotlib.pyplot as plt"
   ]
  },
  {
   "cell_type": "markdown",
   "metadata": {},
   "source": [
    "\n",
    "Now we're going to build a larger network that can solve a (formerly) difficult problem, identifying text in an image. Here we'll use the MNIST dataset which consists of greyscale handwritten digits. Each image is 28x28 pixels, you can see a sample below\n",
    "\n",
    "<img src='assets/mnist.png'>\n",
    "\n",
    "Our goal is to build a neural network that can take one of these images and predict the digit in the image.\n",
    "\n",
    "First up, we need to get our dataset. This is provided through the `torchvision` package. The code below will download the MNIST dataset, then create training and test datasets for us. Don't worry too much about the details here, you'll learn more about this later."
   ]
  },
  {
   "cell_type": "code",
   "execution_count": 4,
   "metadata": {},
   "outputs": [],
   "source": [
    "### Run this cell\n",
    "\n",
    "from torchvision import datasets, transforms\n",
    "\n",
    "# Define a transform to normalize the data\n",
    "transform = transforms.Compose([transforms.ToTensor(),\n",
    "                              transforms.Normalize((0.5, 0.5, 0.5), (0.5, 0.5, 0.5)),\n",
    "                              ])\n",
    "\n",
    "# Download and load the training data\n",
    "trainset = datasets.MNIST('MNIST_data/', download=True, train=True, transform=transform)\n",
    "trainloader = torch.utils.data.DataLoader(trainset, batch_size=64, shuffle=True) #>64 sets the size fo the images"
   ]
  },
  {
   "cell_type": "markdown",
   "metadata": {},
   "source": [
    "We have the training data loaded into `trainloader` and we make that an iterator with `iter(trainloader)`. Later, we'll use this to loop through the dataset for training, like\n",
    "\n",
    "```python\n",
    "for image, label in trainloader:\n",
    "    ## do things with images and labels\n",
    "```\n",
    "\n",
    "You'll notice I created the `trainloader` with a batch size of 64, and `shuffle=True`. The batch size is the number of images we get in one iteration from the data loader and pass through our network, often called a *batch*. And `shuffle=True` tells it to shuffle the dataset every time we start going through the data loader again. But here I'm just grabbing the first batch so we can check out the data. We can see below that `images` is just a tensor with size `(64, 1, 28, 28)`. So, 64 images per batch, 1 color channel, and 28x28 images."
   ]
  },
  {
   "cell_type": "code",
   "execution_count": 5,
   "metadata": {},
   "outputs": [
    {
     "name": "stdout",
     "output_type": "stream",
     "text": [
      "<class 'torch.Tensor'>\n",
      "torch.Size([64, 1, 28, 28])\n",
      "torch.Size([64])\n"
     ]
    }
   ],
   "source": [
    "dataiter = iter(trainloader)\n",
    "images, labels = dataiter.next()\n",
    "print(type(images))\n",
    "print(images.shape)\n",
    "print(labels.shape)"
   ]
  },
  {
   "cell_type": "markdown",
   "metadata": {},
   "source": [
    "This is what one of the images looks like. "
   ]
  },
  {
   "cell_type": "code",
   "execution_count": 6,
   "metadata": {},
   "outputs": [
    {
     "data": {
      "image/png": "[encoded data removed]",
      "text/plain": [
       "<Figure size 432x288 with 1 Axes>"
      ]
     },
     "metadata": {
      "image/png": {
       "height": 250,
       "width": 253
      }
     },
     "output_type": "display_data"
    }
   ],
   "source": [
    "plt.imshow(images[1].numpy().squeeze(), cmap='Greys_r');"
   ]
  },
  {
   "cell_type": "markdown",
   "metadata": {},
   "source": [
    "First, let's try to build a simple network for this dataset using weight matrices and matrix multiplications. Then, we'll see how to do it using PyTorch's `nn` module which provides a much more convenient and powerful method for defining network architectures.\n",
    "\n",
    "The networks you've seen so far are called *fully-connected* or *dense* networks. Each unit in one layer is connected to each unit in the next layer. In fully-connected networks, the input to each layer must be a one-dimensional vector (which can be stacked into a 2D tensor as a batch of multiple examples). However, our images are 28x28 2D tensors, so we need to convert them into 1D vectors. Thinking about sizes, we need to convert the batch of images with shape `(64, 1, 28, 28)` to a have a shape of `(64, 784)`, 784 is 28 times 28. This is typically called *flattening*, we flattened the 2D images into 1D vectors.\n",
    "\n",
    "Previously you built a network with one output unit. Here we need 10 output units, one for each digit. We want our network to predict the digit shown in an image, so what we'll do is calculate probabilities that the image is of any one digit or class. This ends up being a discrete probability distribution over the classes (digits) that tells us the most likely class for the image. That means we need 10 output units for the 10 classes (digits). We'll see how to convert the network output into a probability distribution next.\n",
    "\n",
    "> **Exercise:** Flatten the batch of images `images`. Then build a multi-layer network with 784 input units, 256 hidden units, and 10 output units using random tensors for the weights and biases. For now, use a sigmoid activation for the hidden layer. Leave the output layer without an activation, we'll add one that gives us a probability distribution next."
   ]
  },
  {
   "cell_type": "code",
   "execution_count": 9,
   "metadata": {},
   "outputs": [
    {
     "name": "stdout",
     "output_type": "stream",
     "text": [
      "tensor([[ 16.5512,  -5.2650,  18.1545,  18.5604,   3.8264,  -1.2555,   3.5757,\n",
      "          -3.4565, -17.5139,   6.7265],\n",
      "        [ 11.6023,   2.7577,   9.9849,  25.2939,  11.2302,  -8.2743,  -8.3827,\n",
      "          -2.1953, -12.4513,  -0.0001],\n",
      "        [  9.6906,  -2.8193,   9.7507,  10.9515,   9.7662,   2.6431,   1.1835,\n",
      "           4.4915, -17.5689,   2.3405],\n",
      "        [ 10.1422,  -1.8378,  14.8843,  13.6647,   7.1643, -11.8464,  -2.8230,\n",
      "           0.7798, -15.1485,   1.5413],\n",
      "        [  6.6218,  -9.6885,   7.7728,  18.1505,  24.3968,   4.9754,  -4.7580,\n",
      "           8.7628, -12.1389,   3.4554],\n",
      "        [ 22.7230,   1.4181,  20.9608,  14.4431,   8.0636,  -5.0728,   3.3775,\n",
      "          -1.6032, -10.5090,  -1.1397],\n",
      "        [ 21.3760,  -9.2903,  10.0696,  17.7454,   1.7133,  -4.9858,  -5.4744,\n",
      "          -0.4724, -15.5041,  -3.2481],\n",
      "        [ 10.5951,  -6.6076,  22.0536,  13.6143,   4.9417,  -2.4525,   1.6085,\n",
      "           2.8210, -24.8074,   5.8122],\n",
      "        [ 23.6994,  -1.1237,   9.8176,  15.9578,   6.6194,  -5.1309,  -1.6902,\n",
      "           1.5584, -14.1554,   8.3608],\n",
      "        [ 15.1859,  -1.9156,   8.7876,  12.2040,  12.4610,  -7.3813,  -4.2240,\n",
      "          -5.9673, -18.7632,   7.2329],\n",
      "        [ 18.5018,  -9.6241,  18.7937,  13.4880,   4.5571,  -1.1524,   1.8691,\n",
      "           1.7684, -38.7340,   4.4912],\n",
      "        [ 19.2906,  -3.1096,   4.5455,  21.6878,   4.6962, -15.3656,  -7.2691,\n",
      "           2.3033, -10.8657,   1.1023],\n",
      "        [  9.9556,   3.9180,   9.8690,  20.3616,  14.2335,  -8.6785,   2.8892,\n",
      "          -3.0665, -18.8227,   4.2738],\n",
      "        [ 10.4255,   3.3133,   4.9930,  10.6407,  -1.3431,  -1.3924,  -5.0423,\n",
      "           1.5689, -11.0217,   1.3999],\n",
      "        [ 17.7474,  -7.1196,   7.2132,  17.3178,  10.3740,  -2.4336,   0.6418,\n",
      "           4.4064, -17.1878,   2.9413],\n",
      "        [  4.1418,   1.0162,   4.8642,  22.2063,  17.5608,  -3.6498,  -3.6147,\n",
      "           3.0726,  -1.6269,  -1.2646],\n",
      "        [ 22.5087,  -8.2426,   6.6586,  22.6839,   4.7238,  -0.4612,  -4.9945,\n",
      "           1.9102, -14.9767,   4.4466],\n",
      "        [  3.5250,  -6.8568,  11.2389,  19.4217,  12.9437,  -2.0036,   5.6508,\n",
      "           3.8666, -18.0829,  -1.1854],\n",
      "        [ 17.5866,  -1.6563,   8.4166,  23.7976,   1.5392, -16.4049,   2.4487,\n",
      "          -4.5612, -22.1858,   2.5375],\n",
      "        [ 15.3598,  -6.5920,   5.8815,  20.3019,   6.8765,  -8.5475,  -8.1797,\n",
      "           0.4691, -13.6216,   5.7965],\n",
      "        [ 27.7226,  -2.2280,   8.8608,  14.4409,  11.5353,   1.1453,   0.3415,\n",
      "           3.3530, -20.0492,   0.2045],\n",
      "        [ 20.3302,  -4.2700,  16.2360,  23.0629,   7.1470,  -3.9118,   2.8000,\n",
      "          -7.5273, -21.2519,   2.6607],\n",
      "        [ 10.4841,   0.4922,  15.5456,  17.3257,   9.0450,   1.3774,  -7.6116,\n",
      "           7.5926, -11.2362,  -6.5042],\n",
      "        [  4.4334,  -9.3236,   2.1082,  27.0672,  18.1456,  -4.4437,  10.4037,\n",
      "          10.0962, -16.6054,   2.7949],\n",
      "        [  8.8088, -13.0876,  15.5822,  13.4966,  15.0035,  -1.7028,  -0.7907,\n",
      "           5.5412, -17.2559,   2.2850],\n",
      "        [ 18.2331,  -9.6789,   7.3754,  13.9825,  11.8307,   0.5947,  -1.0904,\n",
      "          15.3388, -15.1757,  -6.3724],\n",
      "        [ 24.6337,  -4.8190,   8.2904,  19.6760,   8.0017, -10.5253,  -4.5682,\n",
      "          -7.7286,  -9.4977,   2.3146],\n",
      "        [ 18.7535,  -1.4463,   5.5012,  19.5586,   5.7094, -13.3993,  -8.2050,\n",
      "          -3.0199,  -6.2731,   2.0393],\n",
      "        [ 19.5831,  -1.7720,   4.7873,  13.7778,  19.1882, -20.2302,  -2.0003,\n",
      "          -1.1672, -15.6880,   2.9315],\n",
      "        [ 12.7171, -13.1029,   2.6228,  15.2470,   8.4651,   5.5470,   4.7262,\n",
      "           5.6529, -22.3118,   8.1301],\n",
      "        [  3.3382,  -5.6734,  13.5255,  19.4512,  14.6256,  -2.2255,  -2.4177,\n",
      "           2.3419, -12.1332,   2.0805],\n",
      "        [ 16.7255,  -4.5811,   6.9918,  25.0886,   8.7896,  -8.4254,  -6.8639,\n",
      "          -6.0978, -13.7047,  -4.8321],\n",
      "        [ 15.3871,  -3.5074,  12.4552,  12.4468,   1.5667, -13.4110,  -3.8690,\n",
      "          -6.8641, -12.4464,   0.6455],\n",
      "        [  7.3466,  -5.3320,   8.7312,   7.6724,  23.0452,  -8.1354,   0.5685,\n",
      "           5.0266, -22.5859,   2.2395],\n",
      "        [ 11.9735,  -3.8354,   0.1345,  14.3901,  21.3906, -16.6391,   4.8492,\n",
      "           3.7906, -11.9683,   1.3635],\n",
      "        [ 12.8826,  -8.4428,  14.6172,   7.3948,  11.2945,  -3.5237,  -1.2283,\n",
      "          -1.0059, -21.9588,   2.9465],\n",
      "        [ 14.2255,  -4.3856,  12.9999,  20.7902,  15.7117,  -4.4324,   2.7498,\n",
      "          12.6902, -12.8065,  -2.0606],\n",
      "        [ 17.7957,  -5.8611,   7.7455,  30.1954,  27.3053,  -8.6808,   7.4462,\n",
      "           3.8239, -15.2498,   6.1021],\n",
      "        [ 12.3228,   1.0077,   8.9676,   6.7834,  10.7890,  -5.5060,  -2.6856,\n",
      "           3.9769, -17.0159,  -5.0623],\n",
      "        [ 17.4811,  -1.4338,  14.3513,  21.6237,   3.6869,   1.4718,  -1.9488,\n",
      "           2.2812,  -9.4383,   6.7341],\n",
      "        [ 21.1547,   1.3331,   6.9212,  15.0802,   6.4300, -12.3454,  -2.3402,\n",
      "           2.0036, -13.6609,   4.9720],\n",
      "        [ 19.3870,   7.2305,  13.1769,  20.3328,   9.6781,  -3.2338,  -7.9238,\n",
      "          -6.2239,  -8.8607,  -0.8060],\n",
      "        [ 13.4406,  -4.5928,   3.7380,  11.8541,   8.3522,  -4.3821,  -4.3512,\n",
      "          -4.1518,  -7.7989,   0.6675],\n",
      "        [ 19.6259,  -4.4180,   2.1472,  18.7377,  13.1942, -16.1076,  11.3694,\n",
      "          -2.8312, -26.5628, -11.0632],\n",
      "        [  8.6646, -10.2128,  13.3786,  20.9131,  13.6146,  -7.2543,   8.4388,\n",
      "           7.9405, -18.2011,   6.9193],\n",
      "        [ 22.8913,  -4.3965,   9.7570,  14.7027,   2.9339,  -0.9279,  -6.5971,\n",
      "          -4.6548, -19.3618,  11.3467],\n",
      "        [ 12.3565, -12.7345,  13.7668,  11.8238,  11.2709, -13.2302,   3.4180,\n",
      "           3.6639, -20.6580,   7.0792],\n",
      "        [ 16.3210,  -7.7562,  13.9906,  18.5312,  10.5801,   2.5927,   6.9234,\n",
      "           4.8542, -16.4897,   0.0944],\n",
      "        [ 15.3335,  -4.5140,   8.4014,  20.3030,   9.4654,  -9.0352,  -8.6342,\n",
      "           4.0010,  -9.1280,   0.4295],\n",
      "        [  8.7020, -13.2957,   3.2666,  13.3601,   6.7011,   8.7057,  11.2896,\n",
      "           3.4579, -18.1304,   6.6231],\n",
      "        [  8.8439,  -9.0634,  12.2364,  17.1782,  13.7415,  -6.1004, -10.6636,\n",
      "           1.6363, -22.6190,   2.4877],\n",
      "        [ 17.7035,  -0.8485,  13.1222,  10.8121,   9.8352,  -4.1150,  -2.9151,\n",
      "           4.1557, -11.4296,   2.7333],\n",
      "        [ 15.2679,  -3.3877,  12.6797,   9.0697,  15.4674,  -6.4478,   6.2241,\n",
      "           5.4516, -22.6658,  -3.0534],\n",
      "        [ 13.7293,  -9.2991,   7.7941,  26.3659,  17.3510,  -7.0879,  -1.8672,\n",
      "           5.4054, -29.1910,   0.1157],\n",
      "        [ 19.5790,  -3.7090,  13.4199,  16.0830,   9.2857,  -8.7456,  -0.6392,\n",
      "          -1.8206, -16.6264,   3.6260],\n",
      "        [  8.8640,  -2.3484,   5.8087,  16.0961,   5.4328,  -1.6162,  -6.9141,\n",
      "           7.0815, -19.6491,  -1.1515],\n",
      "        [ 13.5818, -12.9174,   3.9461,  17.7094,   5.3999,   0.1239,  10.5935,\n",
      "          -7.3427, -16.2287,   9.5615],\n",
      "        [ 12.4820,  -0.1168,  11.5356,  13.7579,   4.4781,  -3.1203,  -1.1171,\n",
      "           2.0488, -13.6830,  -4.3495],\n",
      "        [ 20.7787,   2.8689,   5.1937,  13.9400,   5.7129,  -9.4574,   0.7974,\n",
      "           3.6970, -12.2329,   0.6873],\n",
      "        [  6.7288, -10.3323,  10.7898,  25.6480,  12.5135,   8.9936, -12.0169,\n",
      "           4.8662, -28.5698,  -3.6175],\n",
      "        [ 15.2285,  -2.0631,  11.8320,  10.6824,  15.5880, -10.3453,  -3.8926,\n",
      "           3.7576, -18.4301,  -7.2997],\n",
      "        [ 17.1002,   4.3275,  11.6517,  11.1450,  20.4346, -12.4022,  -2.2082,\n",
      "           2.9691, -13.8235,   0.0652],\n",
      "        [ 11.4878,   0.6527,  13.0916,   5.9676,  11.3335,  -2.8057,   6.8424,\n",
      "          10.5917, -12.0989,   1.8711],\n",
      "        [ 16.0330,  -1.6694,   5.1953,  25.2050,  11.4015,  -3.3805, -10.9530,\n",
      "           6.4436, -25.5602,   3.9152]])\n"
     ]
    }
   ],
   "source": [
    "## Solution\n",
    "#> Create the activations function\n",
    "def activation(x):\n",
    "    return 1/(1+torch.exp(-x))\n",
    "\n",
    "# Flatten the input images\n",
    "inputs = images.view(images.shape[0], -1)\n",
    "\n",
    "# Create parameters\n",
    "w1 = torch.randn(784, 256) #> input layes with 784 units. The second digit referes to the following units \n",
    "                            #> in this case the 256 hidden units. \n",
    "b1 = torch.randn(256) #> weights for all hidden units\n",
    "\n",
    "w2 = torch.randn(256, 10) #> hidden units (256)\n",
    "b2 = torch.randn(10) #> output is 10 units\n",
    "\n",
    "h = activation(torch.mm(inputs, w1) + b1)\n",
    "\n",
    "out = torch.mm(h, w2) + b2\n",
    "print(out)"
   ]
  },
  {
   "cell_type": "markdown",
   "metadata": {},
   "source": [
    "Now we have 10 outputs for our network. We want to pass in an image to our network and get out a probability distribution over the classes that tells us the likely class(es) the image belongs to. Something that looks like this:\n",
    "<img src='assets/image_distribution.png' width=500px>\n",
    "\n",
    "Here we see that the probability for each class is roughly the same. This is representing an untrained network, it hasn't seen any data yet so it just returns a uniform distribution with equal probabilities for each class.\n",
    "\n",
    "To calculate this probability distribution, we often use the [**softmax** function](https://en.wikipedia.org/wiki/Softmax_function). Mathematically this looks like\n",
    "\n",
    "$$\n",
    "\\Large \\sigma(x_i) = \\cfrac{e^{x_i}}{\\sum_k^K{e^{x_k}}}\n",
    "$$\n",
    "\n",
    "What this does is squish each input $x_i$ between 0 and 1 and normalizes the values to give you a proper probability distribution where the probabilites sum up to one.\n",
    "\n",
    "> **Exercise:** Implement a function `softmax` that performs the softmax calculation and returns probability distributions for each example in the batch. Note that you'll need to pay attention to the shapes when doing this. If you have a tensor `a` with shape `(64, 10)` and a tensor `b` with shape `(64,)`, doing `a/b` will give you an error because PyTorch will try to do the division across the columns (called broadcasting) but you'll get a size mismatch. The way to think about this is for each of the 64 examples, you only want to divide by one value, the sum in the denominator. So you need `b` to have a shape of `(64, 1)`. This way PyTorch will divide the 10 values in each row of `a` by the one value in each row of `b`. Pay attention to how you take the sum as well. You'll need to define the `dim` keyword in `torch.sum`. Setting `dim=0` takes the sum across the rows while `dim=1` takes the sum across the columns."
   ]
  },
  {
   "cell_type": "code",
   "execution_count": 13,
   "metadata": {},
   "outputs": [
    {
     "name": "stdout",
     "output_type": "stream",
     "text": [
      "torch.Size([64, 10])\n",
      "tensor([1.0000, 1.0000, 1.0000, 1.0000, 1.0000, 1.0000, 1.0000, 1.0000, 1.0000,\n",
      "        1.0000, 1.0000, 1.0000, 1.0000, 1.0000, 1.0000, 1.0000, 1.0000, 1.0000,\n",
      "        1.0000, 1.0000, 1.0000, 1.0000, 1.0000, 1.0000, 1.0000, 1.0000, 1.0000,\n",
      "        1.0000, 1.0000, 1.0000, 1.0000, 1.0000, 1.0000, 1.0000, 1.0000, 1.0000,\n",
      "        1.0000, 1.0000, 1.0000, 1.0000, 1.0000, 1.0000, 1.0000, 1.0000, 1.0000,\n",
      "        1.0000, 1.0000, 1.0000, 1.0000, 1.0000, 1.0000, 1.0000, 1.0000, 1.0000,\n",
      "        1.0000, 1.0000, 1.0000, 1.0000, 1.0000, 1.0000, 1.0000, 1.0000, 1.0000,\n",
      "        1.0000])\n"
     ]
    }
   ],
   "source": [
    "def softmax(x):\n",
    "    ## TODO: Implement the softmax function here\n",
    "        return torch.exp(x)/torch.sum(torch.exp(x), dim=1).view(-1, 1)\n",
    "\n",
    "# Here, out should be the output of the network in the previous excercise with shape (64,10)\n",
    "probabilities = softmax(out)\n",
    "\n",
    "# Does it have the right shape? Should be (64, 10)\n",
    "print(probabilities.shape)\n",
    "# Does it sum to 1?\n",
    "print(probabilities.sum(dim=1))"
   ]
  },
  {
   "cell_type": "markdown",
   "metadata": {},
   "source": [
    "## Building networks with PyTorch\n",
    "\n",
    "PyTorch provides a module `nn` that makes building networks much simpler. Here I'll show you how to build the same one as above with 784 inputs, 256 hidden units, 10 output units and a softmax output."
   ]
  },
  {
   "cell_type": "code",
   "execution_count": 14,
   "metadata": {},
   "outputs": [],
   "source": [
    "from torch import nn"
   ]
  },
  {
   "cell_type": "code",
   "execution_count": 15,
   "metadata": {},
   "outputs": [],
   "source": [
    "class Network(nn.Module):\n",
    "    def __init__(self):\n",
    "        super().__init__()\n",
    "        \n",
    "        # Inputs to hidden layer linear transformation\n",
    "        self.hidden = nn.Linear(784, 256)\n",
    "        # Output layer, 10 units - one for each digit\n",
    "        self.output = nn.Linear(256, 10)\n",
    "        \n",
    "        # Define sigmoid activation and softmax output \n",
    "        self.sigmoid = nn.Sigmoid()\n",
    "        self.softmax = nn.Softmax(dim=1)\n",
    "        \n",
    "    def forward(self, x):\n",
    "        # Pass the input tensor through each of our operations\n",
    "        x = self.hidden(x)\n",
    "        x = self.sigmoid(x)\n",
    "        x = self.output(x)\n",
    "        x = self.softmax(x)\n",
    "        \n",
    "        return x"
   ]
  },
  {
   "cell_type": "markdown",
   "metadata": {},
   "source": [
    "Let's go through this bit by bit.\n",
    "\n",
    "```python\n",
    "class Network(nn.Module):\n",
    "```\n",
    "\n",
    "Here we're inheriting from `nn.Module`. Combined with `super().__init__()` this creates a class that tracks the architecture and provides a lot of useful methods and attributes. It is mandatory to inherit from `nn.Module` when you're creating a class for your network. The name of the class itself can be anything.\n",
    "\n",
    "```python\n",
    "self.hidden = nn.Linear(784, 256)\n",
    "```\n",
    "\n",
    "This line creates a module for a linear transformation, $x\\mathbf{W} + b$, with 784 inputs and 256 outputs and assigns it to `self.hidden`. The module automatically creates the weight and bias tensors which we'll use in the `forward` method. You can access the weight and bias tensors once the network once it's create at `net.hidden.weight` and `net.hidden.bias`.\n",
    "\n",
    "```python\n",
    "self.output = nn.Linear(256, 10)\n",
    "```\n",
    "\n",
    "Similarly, this creates another linear transformation with 256 inputs and 10 outputs.\n",
    "\n",
    "```python\n",
    "self.sigmoid = nn.Sigmoid()\n",
    "self.softmax = nn.Softmax(dim=1)\n",
    "```\n",
    "\n",
    "Here I defined operations for the sigmoid activation and softmax output. Setting `dim=1` in `nn.Softmax(dim=1)` calculates softmax across the columns.\n",
    "\n",
    "```python\n",
    "def forward(self, x):\n",
    "```\n",
    "\n",
    "PyTorch networks created with `nn.Module` must have a `forward` method defined. It takes in a tensor `x` and passes it through the operations you defined in the `__init__` method.\n",
    "\n",
    "```python\n",
    "x = self.hidden(x)\n",
    "x = self.sigmoid(x)\n",
    "x = self.output(x)\n",
    "x = self.softmax(x)\n",
    "```\n",
    "\n",
    "Here the input tensor `x` is passed through each operation a reassigned to `x`. We can see that the input tensor goes through the hidden layer, then a sigmoid function, then the output layer, and finally the softmax function. It doesn't matter what you name the variables here, as long as the inputs and outputs of the operations match the network architecture you want to build. The order in which you define things in the `__init__` method doesn't matter, but you'll need to sequence the operations correctly in the `forward` method.\n",
    "\n",
    "Now we can create a `Network` object."
   ]
  },
  {
   "cell_type": "code",
   "execution_count": 16,
   "metadata": {},
   "outputs": [
    {
     "data": {
      "text/plain": [
       "Network(\n",
       "  (hidden): Linear(in_features=784, out_features=256, bias=True)\n",
       "  (output): Linear(in_features=256, out_features=10, bias=True)\n",
       "  (sigmoid): Sigmoid()\n",
       "  (softmax): Softmax()\n",
       ")"
      ]
     },
     "execution_count": 16,
     "metadata": {},
     "output_type": "execute_result"
    }
   ],
   "source": [
    "# Create the network and look at it's text representation\n",
    "model = Network()\n",
    "model"
   ]
  },
  {
   "cell_type": "markdown",
   "metadata": {},
   "source": [
    "You can define the network somewhat more concisely and clearly using the `torch.nn.functional` module. This is the most common way you'll see networks defined as many operations are simple element-wise functions. We normally import this module as `F`, `import torch.nn.functional as F`."
   ]
  },
  {
   "cell_type": "code",
   "execution_count": 18,
   "metadata": {},
   "outputs": [],
   "source": [
    "#> This is equivalent to the class built above but more straight forward. \n",
    "import torch.nn.functional as F\n",
    "\n",
    "class Network(nn.Module):\n",
    "    def __init__(self):\n",
    "        super().__init__()\n",
    "        # Inputs to hidden layer linear transformation\n",
    "        self.hidden = nn.Linear(784, 256)\n",
    "        # Output layer, 10 units - one for each digit\n",
    "        self.output = nn.Linear(256, 10)\n",
    "        \n",
    "    def forward(self, x):\n",
    "        # Hidden layer with sigmoid activation\n",
    "        x = F.sigmoid(self.hidden(x))\n",
    "        # Output layer with softmax activation\n",
    "        x = F.softmax(self.output(x), dim=1)\n",
    "        \n",
    "        return x"
   ]
  },
  {
   "cell_type": "markdown",
   "metadata": {},
   "source": [
    "### Activation functions\n",
    "\n",
    "So far we've only been looking at the softmax activation, but in general any function can be used as an activation function. The only requirement is that for a network to approximate a non-linear function, the activation functions must be non-linear. Here are a few more examples of common activation functions: Tanh (hyperbolic tangent), and ReLU (rectified linear unit).\n",
    "\n",
    "<img src=\"assets/activation.png\" width=700px>\n",
    "\n",
    "In practice, the ReLU function is used almost exclusively as the activation function for hidden layers."
   ]
  },
  {
   "cell_type": "markdown",
   "metadata": {},
   "source": [
    "### Your Turn to Build a Network\n",
    "\n",
    "<img src=\"assets/mlp_mnist.png\" width=600px>\n",
    "\n",
    "> **Exercise:** Create a network with 784 input units, a hidden layer with 128 units and a ReLU activation, then a hidden layer with 64 units and a ReLU activation, and finally an output layer with a softmax activation as shown above. You can use a ReLU activation with the `nn.ReLU` module or `F.relu` function."
   ]
  },
  {
   "cell_type": "code",
   "execution_count": 19,
   "metadata": {
    "scrolled": true
   },
   "outputs": [
    {
     "data": {
      "text/plain": [
       "Network(\n",
       "  (fc1): Linear(in_features=784, out_features=128, bias=True)\n",
       "  (fc2): Linear(in_features=128, out_features=64, bias=True)\n",
       "  (fc3): Linear(in_features=64, out_features=10, bias=True)\n",
       ")"
      ]
     },
     "execution_count": 19,
     "metadata": {},
     "output_type": "execute_result"
    }
   ],
   "source": [
    "class Network(nn.Module):\n",
    "    def __init__(self):\n",
    "        super().__init__()\n",
    "        # Defining the layers, 128, 64, 10 units each\n",
    "        self.fc1 = nn.Linear(784, 128)\n",
    "        self.fc2 = nn.Linear(128, 64)\n",
    "        # Output layer, 10 units - one for each digit\n",
    "        self.fc3 = nn.Linear(64, 10)\n",
    "        \n",
    "    def forward(self, x):\n",
    "        ''' Forward pass through the network, returns the output logits '''\n",
    "        \n",
    "        x = self.fc1(x)\n",
    "        x = F.relu(x)\n",
    "        x = self.fc2(x)\n",
    "        x = F.relu(x)\n",
    "        x = self.fc3(x)\n",
    "        x = F.softmax(x, dim=1)\n",
    "        \n",
    "        return x\n",
    "\n",
    "model = Network()\n",
    "model"
   ]
  },
  {
   "cell_type": "markdown",
   "metadata": {},
   "source": [
    "### Initializing weights and biases\n",
    "\n",
    "The weights and such are automatically initialized for you, but it's possible to customize how they are initialized. The weights and biases are tensors attached to the layer you defined, you can get them with `model.fc1.weight` for instance."
   ]
  },
  {
   "cell_type": "code",
   "execution_count": 20,
   "metadata": {},
   "outputs": [
    {
     "name": "stdout",
     "output_type": "stream",
     "text": [
      "Parameter containing:\n",
      "tensor([[ 0.0238,  0.0233,  0.0147,  ..., -0.0088,  0.0281,  0.0293],\n",
      "        [ 0.0102, -0.0112,  0.0111,  ...,  0.0188,  0.0110, -0.0205],\n",
      "        [-0.0233,  0.0144,  0.0157,  ..., -0.0155,  0.0188, -0.0056],\n",
      "        ...,\n",
      "        [-0.0129,  0.0180,  0.0146,  ..., -0.0247, -0.0275, -0.0044],\n",
      "        [-0.0114, -0.0010,  0.0226,  ..., -0.0240, -0.0259,  0.0137],\n",
      "        [ 0.0218,  0.0186, -0.0334,  ...,  0.0090, -0.0190, -0.0058]],\n",
      "       requires_grad=True)\n",
      "Parameter containing:\n",
      "tensor([-0.0051,  0.0240,  0.0215,  0.0106,  0.0335, -0.0100, -0.0011, -0.0220,\n",
      "         0.0131, -0.0175, -0.0187, -0.0061, -0.0347, -0.0075, -0.0294,  0.0315,\n",
      "         0.0143, -0.0005, -0.0277, -0.0090,  0.0191,  0.0166,  0.0270, -0.0222,\n",
      "         0.0178, -0.0209, -0.0079,  0.0345, -0.0032,  0.0003, -0.0034, -0.0092,\n",
      "         0.0118,  0.0301,  0.0046,  0.0113,  0.0112,  0.0155,  0.0273, -0.0272,\n",
      "         0.0183,  0.0281, -0.0030,  0.0079, -0.0009, -0.0148,  0.0318,  0.0151,\n",
      "        -0.0168,  0.0058, -0.0319, -0.0092,  0.0154,  0.0269,  0.0011, -0.0143,\n",
      "         0.0281,  0.0320, -0.0303, -0.0011, -0.0183, -0.0177,  0.0005, -0.0022,\n",
      "         0.0300,  0.0205, -0.0152,  0.0282,  0.0355,  0.0051, -0.0094,  0.0025,\n",
      "        -0.0315,  0.0162,  0.0129,  0.0118, -0.0048,  0.0334,  0.0010,  0.0205,\n",
      "        -0.0199, -0.0152, -0.0166,  0.0323,  0.0317,  0.0242, -0.0148, -0.0254,\n",
      "        -0.0355, -0.0234, -0.0062,  0.0297, -0.0122, -0.0251,  0.0076,  0.0185,\n",
      "         0.0043, -0.0006,  0.0301, -0.0133, -0.0329, -0.0277,  0.0149, -0.0028,\n",
      "        -0.0352,  0.0069, -0.0168,  0.0208,  0.0094, -0.0271,  0.0355,  0.0205,\n",
      "        -0.0009,  0.0179, -0.0010,  0.0240, -0.0254,  0.0108,  0.0272,  0.0222,\n",
      "        -0.0092,  0.0073,  0.0142, -0.0308, -0.0208, -0.0187, -0.0019, -0.0082],\n",
      "       requires_grad=True)\n"
     ]
    }
   ],
   "source": [
    "print(model.fc1.weight)\n",
    "print(model.fc1.bias)"
   ]
  },
  {
   "cell_type": "markdown",
   "metadata": {},
   "source": [
    "For custom initialization, we want to modify these tensors in place. These are actually autograd *Variables*, so we need to get back the actual tensors with `model.fc1.weight.data`. Once we have the tensors, we can fill them with zeros (for biases) or random normal values."
   ]
  },
  {
   "cell_type": "code",
   "execution_count": 21,
   "metadata": {},
   "outputs": [
    {
     "data": {
      "text/plain": [
       "tensor([0., 0., 0., 0., 0., 0., 0., 0., 0., 0., 0., 0., 0., 0., 0., 0., 0., 0.,\n",
       "        0., 0., 0., 0., 0., 0., 0., 0., 0., 0., 0., 0., 0., 0., 0., 0., 0., 0.,\n",
       "        0., 0., 0., 0., 0., 0., 0., 0., 0., 0., 0., 0., 0., 0., 0., 0., 0., 0.,\n",
       "        0., 0., 0., 0., 0., 0., 0., 0., 0., 0., 0., 0., 0., 0., 0., 0., 0., 0.,\n",
       "        0., 0., 0., 0., 0., 0., 0., 0., 0., 0., 0., 0., 0., 0., 0., 0., 0., 0.,\n",
       "        0., 0., 0., 0., 0., 0., 0., 0., 0., 0., 0., 0., 0., 0., 0., 0., 0., 0.,\n",
       "        0., 0., 0., 0., 0., 0., 0., 0., 0., 0., 0., 0., 0., 0., 0., 0., 0., 0.,\n",
       "        0., 0.])"
      ]
     },
     "execution_count": 21,
     "metadata": {},
     "output_type": "execute_result"
    }
   ],
   "source": [
    "# Set biases to all zeros\n",
    "model.fc1.bias.data.fill_(0)"
   ]
  },
  {
   "cell_type": "code",
   "execution_count": 22,
   "metadata": {},
   "outputs": [
    {
     "data": {
      "text/plain": [
       "tensor([[ 0.0072,  0.0056, -0.0137,  ...,  0.0003,  0.0062,  0.0007],\n",
       "        [-0.0023, -0.0033,  0.0064,  ..., -0.0078,  0.0100, -0.0125],\n",
       "        [ 0.0080,  0.0101,  0.0025,  ..., -0.0034, -0.0102,  0.0076],\n",
       "        ...,\n",
       "        [ 0.0017, -0.0259, -0.0087,  ..., -0.0251,  0.0002,  0.0058],\n",
       "        [-0.0106, -0.0148, -0.0024,  ...,  0.0085, -0.0111, -0.0021],\n",
       "        [-0.0157,  0.0161, -0.0051,  ..., -0.0214,  0.0023,  0.0146]])"
      ]
     },
     "execution_count": 22,
     "metadata": {},
     "output_type": "execute_result"
    }
   ],
   "source": [
    "# sample from random normal with standard dev = 0.01\n",
    "model.fc1.weight.data.normal_(std=0.01)"
   ]
  },
  {
   "cell_type": "markdown",
   "metadata": {},
   "source": [
    "### Forward pass\n",
    "\n",
    "Now that we have a network, let's see what happens when we pass in an image."
   ]
  },
  {
   "cell_type": "code",
   "execution_count": 23,
   "metadata": {},
   "outputs": [
    {
     "data": {
      "image/png": "[encoded data removed]",
      "text/plain": [
       "<Figure size 432x648 with 2 Axes>"
      ]
     },
     "metadata": {
      "image/png": {
       "height": 224,
       "width": 423
      }
     },
     "output_type": "display_data"
    }
   ],
   "source": [
    "# Grab some data \n",
    "dataiter = iter(trainloader)\n",
    "images, labels = dataiter.next()\n",
    "\n",
    "# Resize images into a 1D vector, new shape is (batch size, color channels, image pixels) \n",
    "images.resize_(64, 1, 784)\n",
    "# or images.resize_(images.shape[0], 1, 784) to automatically get batch size\n",
    "\n",
    "# Forward pass through the network\n",
    "img_idx = 0\n",
    "ps = model.forward(images[img_idx,:])\n",
    "\n",
    "img = images[img_idx]\n",
    "helper.view_classify(img.view(1, 28, 28), ps)"
   ]
  },
  {
   "cell_type": "markdown",
   "metadata": {},
   "source": [
    "As you can see above, our network has basically no idea what this digit is. It's because we haven't trained it yet, all the weights are random!\n",
    "\n",
    "### Using `nn.Sequential`\n",
    "\n",
    "PyTorch provides a convenient way to build networks like this where a tensor is passed sequentially through operations, `nn.Sequential` ([documentation](https://pytorch.org/docs/master/nn.html#torch.nn.Sequential)). Using this to build the equivalent network:"
   ]
  },
  {
   "cell_type": "code",
   "execution_count": 24,
   "metadata": {},
   "outputs": [
    {
     "name": "stdout",
     "output_type": "stream",
     "text": [
      "Sequential(\n",
      "  (0): Linear(in_features=784, out_features=128, bias=True)\n",
      "  (1): ReLU()\n",
      "  (2): Linear(in_features=128, out_features=64, bias=True)\n",
      "  (3): ReLU()\n",
      "  (4): Linear(in_features=64, out_features=10, bias=True)\n",
      "  (5): Softmax()\n",
      ")\n"
     ]
    },
    {
     "data": {
      "image/png": "[encoded data removed]",
      "text/plain": [
       "<Figure size 432x648 with 2 Axes>"
      ]
     },
     "metadata": {
      "image/png": {
       "height": 224,
       "width": 423
      }
     },
     "output_type": "display_data"
    }
   ],
   "source": [
    "# Hyperparameters for our network\n",
    "input_size = 784\n",
    "hidden_sizes = [128, 64]\n",
    "output_size = 10\n",
    "\n",
    "# Build a feed-forward network\n",
    "model = nn.Sequential(nn.Linear(input_size, hidden_sizes[0]),\n",
    "                      nn.ReLU(),\n",
    "                      nn.Linear(hidden_sizes[0], hidden_sizes[1]),\n",
    "                      nn.ReLU(),\n",
    "                      nn.Linear(hidden_sizes[1], output_size),\n",
    "                      nn.Softmax(dim=1))\n",
    "print(model)\n",
    "\n",
    "# Forward pass through the network and display output\n",
    "images, labels = next(iter(trainloader))\n",
    "images.resize_(images.shape[0], 1, 784)\n",
    "ps = model.forward(images[0,:])\n",
    "helper.view_classify(images[0].view(1, 28, 28), ps)"
   ]
  },
  {
   "cell_type": "markdown",
   "metadata": {},
   "source": [
    "The operations are availble by passing in the appropriate index. For example, if you want to get first Linear operation and look at the weights, you'd use `model[0]`."
   ]
  },
  {
   "cell_type": "code",
   "execution_count": 25,
   "metadata": {},
   "outputs": [
    {
     "name": "stdout",
     "output_type": "stream",
     "text": [
      "Linear(in_features=784, out_features=128, bias=True)\n"
     ]
    },
    {
     "data": {
      "text/plain": [
       "Parameter containing:\n",
       "tensor([[ 0.0246, -0.0329, -0.0164,  ...,  0.0297,  0.0029,  0.0308],\n",
       "        [ 0.0260,  0.0029, -0.0100,  ..., -0.0340,  0.0259,  0.0165],\n",
       "        [-0.0020,  0.0278, -0.0334,  ..., -0.0191, -0.0147, -0.0105],\n",
       "        ...,\n",
       "        [ 0.0205,  0.0042, -0.0245,  ...,  0.0038, -0.0177,  0.0339],\n",
       "        [ 0.0234,  0.0235,  0.0208,  ...,  0.0083, -0.0177, -0.0011],\n",
       "        [-0.0193, -0.0151,  0.0158,  ...,  0.0332, -0.0338,  0.0186]],\n",
       "       requires_grad=True)"
      ]
     },
     "execution_count": 25,
     "metadata": {},
     "output_type": "execute_result"
    }
   ],
   "source": [
    "print(model[0])\n",
    "model[0].weight"
   ]
  },
  {
   "cell_type": "markdown",
   "metadata": {},
   "source": [
    "You can also pass in an `OrderedDict` to name the individual layers and operations, instead of using incremental integers. Note that dictionary keys must be unique, so _each operation must have a different name_."
   ]
  },
  {
   "cell_type": "code",
   "execution_count": 26,
   "metadata": {},
   "outputs": [
    {
     "data": {
      "text/plain": [
       "Sequential(\n",
       "  (fc1): Linear(in_features=784, out_features=128, bias=True)\n",
       "  (relu1): ReLU()\n",
       "  (fc2): Linear(in_features=128, out_features=64, bias=True)\n",
       "  (relu2): ReLU()\n",
       "  (output): Linear(in_features=64, out_features=10, bias=True)\n",
       "  (softmax): Softmax()\n",
       ")"
      ]
     },
     "execution_count": 26,
     "metadata": {},
     "output_type": "execute_result"
    }
   ],
   "source": [
    "from collections import OrderedDict\n",
    "model = nn.Sequential(OrderedDict([\n",
    "                      ('fc1', nn.Linear(input_size, hidden_sizes[0])),\n",
    "                      ('relu1', nn.ReLU()),\n",
    "                      ('fc2', nn.Linear(hidden_sizes[0], hidden_sizes[1])),\n",
    "                      ('relu2', nn.ReLU()),\n",
    "                      ('output', nn.Linear(hidden_sizes[1], output_size)),\n",
    "                      ('softmax', nn.Softmax(dim=1))]))\n",
    "model"
   ]
  },
  {
   "cell_type": "markdown",
   "metadata": {},
   "source": [
    "Now you can access layers either by integer or the name"
   ]
  },
  {
   "cell_type": "code",
   "execution_count": 27,
   "metadata": {},
   "outputs": [
    {
     "name": "stdout",
     "output_type": "stream",
     "text": [
      "Linear(in_features=784, out_features=128, bias=True)\n",
      "Linear(in_features=784, out_features=128, bias=True)\n"
     ]
    }
   ],
   "source": [
    "print(model[0])\n",
    "print(model.fc1)"
   ]
  },
  {
   "cell_type": "markdown",
   "metadata": {},
   "source": [
    "In the next notebook, we'll see how we can train a neural network to accuractly predict the numbers appearing in the MNIST images."
   ]
  }
 ],
 "metadata": {
  "kernelspec": {
   "display_name": "Python 3",
   "language": "python",
   "name": "python3"
  },
  "language_info": {
   "codemirror_mode": {
    "name": "ipython",
    "version": 3
   },
   "file_extension": ".py",
   "mimetype": "text/x-python",
   "name": "python",
   "nbconvert_exporter": "python",
   "pygments_lexer": "ipython3",
   "version": "3.6.5"
  }
 },
 "nbformat": 4,
 "nbformat_minor": 2
}
